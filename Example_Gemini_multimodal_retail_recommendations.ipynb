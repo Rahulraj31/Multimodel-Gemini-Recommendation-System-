{
  "cells": [
    {
      "cell_type": "markdown",
      "metadata": {
        "id": "VEqbX8OhE8y9"
      },
      "source": [
        "## Example Multimodal retail recommendation: using Gemini to recommend items based on images and image reasoning"
      ]
    },
    {
      "cell_type": "markdown",
      "metadata": {
        "id": "048a84091064"
      },
      "source": [
        "\n",
        "Author :  Rahul Raj Pandey <br>rahul@econz.net"
      ]
    },
    {
      "cell_type": "markdown",
      "metadata": {
        "id": "4437b7608c8e"
      },
      "source": [
        "### Import libraries and initialise\n"
      ]
    },
    {
      "cell_type": "code",
      "execution_count": 7,
      "metadata": {
        "id": "rtMowvm-yQ97"
      },
      "outputs": [],
      "source": [
        "# Define project information\n",
        "PROJECT_ID = \"rahul-research-test\"  # @param {type:\"string\"}\n",
        "LOCATION = \"us-central1\"  # @param {type:\"string\"}\n",
        "\n",
        "# Initialize Vertex AI\n",
        "import vertexai\n",
        "vertexai.init(project=PROJECT_ID, location=LOCATION)\n",
        "from vertexai.generative_models import GenerativeModel, Image"
      ]
    },
    {
      "cell_type": "markdown",
      "metadata": {
        "id": "ExdEEGUqUYRW"
      },
      "source": [
        "### Load Gemini 1.5 Pro model"
      ]
    },
    {
      "cell_type": "code",
      "execution_count": 8,
      "metadata": {
        "id": "pxlvLmncUYRW"
      },
      "outputs": [],
      "source": [
        "multimodal_model = GenerativeModel(\"gemini-1.5-pro\")"
      ]
    },
    {
      "cell_type": "markdown",
      "metadata": {
        "id": "sNxn74L2UNdU"
      },
      "source": [
        "### Define helper functions"
      ]
    },
    {
      "cell_type": "code",
      "execution_count": 9,
      "metadata": {
        "id": "VEUnTOHz95vm"
      },
      "outputs": [],
      "source": [
        "import http.client\n",
        "import io\n",
        "import typing\n",
        "import urllib.request\n",
        "\n",
        "import IPython.display\n",
        "from PIL import Image as PIL_Image\n",
        "from PIL import ImageOps as PIL_ImageOps\n",
        "\n",
        "\n",
        "def display_image(image: Image, max_width: int = 600, max_height: int = 350) -> None:\n",
        "    pil_image = typing.cast(PIL_Image.Image, image._pil_image)\n",
        "    if pil_image.mode != \"RGB\":\n",
        "        # Modes such as RGBA are not yet supported by all Jupyter environments\n",
        "        pil_image = pil_image.convert(\"RGB\")\n",
        "    image_width, image_height = pil_image.size\n",
        "    if max_width < image_width or max_height < image_height:\n",
        "        # Resize to display a smaller notebook image\n",
        "        pil_image = PIL_ImageOps.contain(pil_image, (max_width, max_height))\n",
        "    display_image_compressed(pil_image)\n",
        "\n",
        "\n",
        "def display_image_compressed(pil_image: PIL_Image.Image) -> None:\n",
        "    image_io = io.BytesIO()\n",
        "    pil_image.save(image_io, \"jpeg\", quality=80, optimize=True)\n",
        "    image_bytes = image_io.getvalue()\n",
        "    ipython_image = IPython.display.Image(image_bytes)\n",
        "    IPython.display.display(ipython_image)\n",
        "\n",
        "\n",
        "def get_image_bytes_from_url(image_url: str) -> bytes:\n",
        "    with urllib.request.urlopen(image_url) as response:\n",
        "        response = typing.cast(http.client.HTTPResponse, response)\n",
        "        print(response.headers[\"Content-Type\"])\n",
        "        # if response.headers[\"Content-Type\"] not in (\"image/png\", \"image/jpeg\",\"image/jpg\"):\n",
        "        #     raise Exception(\"Image can only be in PNG or JPEG format\")\n",
        "        image_bytes = response.read()\n",
        "    return image_bytes\n",
        "\n",
        "\n",
        "def load_image_from_url(image_url: str) -> Image:\n",
        "    image_bytes = get_image_bytes_from_url(image_url)\n",
        "    return Image.from_bytes(image_bytes)\n",
        "\n",
        "\n",
        "def print_multimodal_prompt(contents: list):\n",
        "    \"\"\"\n",
        "    Given contents that would be sent to Gemini,\n",
        "    output the full multimodal prompt for ease of readability.\n",
        "    \"\"\"\n",
        "    for content in contents:\n",
        "        if isinstance(content, Image):\n",
        "            display_image(content)\n",
        "        else:\n",
        "            print(content)"
      ]
    },
    {
      "cell_type": "markdown",
      "metadata": {
        "id": "idEB0JFcbznD"
      },
      "source": [
        "### Generating recommendations based on provided images\n",
        "\n",
        "Instead of keeping the recommendation open, you can also provide a list of items for the model to choose from. Here you will download a few chair images and set them as options for the Gemini model to recommend from."
      ]
    },
    {
      "cell_type": "markdown",
      "metadata": {},
      "source": [
        "### Chairs for Room"
      ]
    },
    {
      "cell_type": "markdown",
      "metadata": {},
      "source": [
        "##### Scenario\n",
        "\n",
        "The customer shows you their living room:\n",
        "\n",
        "|Customer photo |\n",
        "|:-----:|\n",
        "|<img src=\"https://storage.googleapis.com/github-repo/img/gemini/retail-recommendations/rooms/spacejoy-c0JoR_-2x3E-unsplash.jpg\" width=\"80%\">  |\n",
        "\n",
        "\n",
        "\n",
        "Below are four chair options that the customer is trying to decide between:\n",
        "\n",
        "|Chair 1| Chair 2 | Chair 3 | Chair 4 |\n",
        "|:-----:|:----:|:-----:|:----:|\n",
        "| <img src=\"https://storage.googleapis.com/github-repo/img/gemini/retail-recommendations/furnitures/cesar-couto-OB2F6CsMva8-unsplash.jpg\" width=\"80%\">|<img src=\"https://storage.googleapis.com/github-repo/img/gemini/retail-recommendations/furnitures/daniil-silantev-1P6AnKDw6S8-unsplash.jpg\" width=\"80%\">|<img src=\"https://storage.googleapis.com/github-repo/img/gemini/retail-recommendations/furnitures/ruslan-bardash-4kTbAMRAHtQ-unsplash.jpg\" width=\"80%\">|<img src=\"https://storage.googleapis.com/github-repo/img/gemini/retail-recommendations/furnitures/scopic-ltd-NLlWwR4d3qU-unsplash.jpg\" width=\"80%\">|\n"
      ]
    },
    {
      "cell_type": "markdown",
      "metadata": {},
      "source": [
        "#### code"
      ]
    },
    {
      "cell_type": "code",
      "execution_count": 23,
      "metadata": {},
      "outputs": [
        {
          "name": "stdout",
          "output_type": "stream",
          "text": [
            "image/jpeg\n",
            "image/jpeg\n",
            "image/jpeg\n",
            "image/jpeg\n",
            "image/jpeg\n"
          ]
        }
      ],
      "source": [
        "# urls for room images\n",
        "room_image_url = \"https://storage.googleapis.com/github-repo/img/gemini/retail-recommendations/rooms/spacejoy-c0JoR_-2x3E-unsplash.jpg\"\n",
        "\n",
        "# load room images as Image Objects\n",
        "room_image = load_image_from_url(room_image_url)\n",
        "\n",
        "# Download and display sample chairs\n",
        "furniture_image_urls = [\n",
        "    \"https://storage.googleapis.com/github-repo/img/gemini/retail-recommendations/furnitures/cesar-couto-OB2F6CsMva8-unsplash.jpg\",\n",
        "    \"https://storage.googleapis.com/github-repo/img/gemini/retail-recommendations/furnitures/daniil-silantev-1P6AnKDw6S8-unsplash.jpg\",\n",
        "    \"https://storage.googleapis.com/github-repo/img/gemini/retail-recommendations/furnitures/ruslan-bardash-4kTbAMRAHtQ-unsplash.jpg\",\n",
        "    \"https://storage.googleapis.com/github-repo/img/gemini/retail-recommendations/furnitures/scopic-ltd-NLlWwR4d3qU-unsplash.jpg\",\n",
        "]\n",
        "\n",
        "# Load furniture images as Image Objects\n",
        "furniture_images = [load_image_from_url(url) for url in furniture_image_urls]\n",
        "\n",
        "# To recommend an item from a selection, you will need to label the item number within the prompt.\n",
        "# Labelling images within your prompt also help to reduce hallucinations and overall produce better results.\n",
        "contents = [\n",
        "    \"Consider the following chairs:\",\n",
        "    \"chair 1:\",\n",
        "    furniture_images[0],\n",
        "    \"chair 2:\",\n",
        "    furniture_images[1],\n",
        "    \"chair 3:\",\n",
        "    furniture_images[2],\n",
        "    \"chair 4:\",\n",
        "    furniture_images[3],\n",
        "    \"room:\",\n",
        "    room_image,\n",
        "    \"You are an interior designer. For each chair, explain whether it would be appropriate for the style of the room:\",\n",
        "]"
      ]
    },
    {
      "cell_type": "markdown",
      "metadata": {},
      "source": [
        "#### output"
      ]
    },
    {
      "cell_type": "code",
      "execution_count": 19,
      "metadata": {
        "id": "f_jMmwRiFcPF",
        "outputId": "ff655c01-12c6-4044-b423-1e867cc42d32"
      },
      "outputs": [
        {
          "name": "stdout",
          "output_type": "stream",
          "text": [
            "\n",
            "-------Response--------\n"
          ]
        },
        {
          "data": {
            "text/markdown": [
              "Here's a breakdown of each switchboard's suitability for the room, along with a table summarizing the assessments:\n",
              "\n",
              "**Switchboard 1**\n",
              "\n",
              "* **Description:** Rectangular wooden frame with grey switches and outlets.\n",
              "* **Appropriateness:**  This switchboard has a modern, slightly rustic feel due to the wood grain. It could work well in the room if you want to complement the wooden wall paneling, but the grey might clash with the overall warm tones. \n",
              "* **Rating:** 6/10 (Potentially suitable, but consider the color contrast)\n",
              "\n",
              "**Switchboard 2**\n",
              "\n",
              "* **Description:**  Clean, minimalist white rectangular switchboard with a variety of outlets and a dimmer switch.\n",
              "* **Appropriateness:**  This is a very versatile style that could blend well into the background. It wouldn't be a standout feature, but it wouldn't clash with the design either.\n",
              "* **Rating:** 7/10 (Safe and neutral choice)\n",
              "\n",
              "**Switchboard 3**\n",
              "\n",
              "* **Description:** Two square options – one metallic gold, one wood-look with gold accents.\n",
              "* **Appropriateness:**  The gold is too opulent and doesn't match the room's refined, natural aesthetic. The wood option might work if it matched the wall paneling exactly, but it's risky. \n",
              "* **Rating:** 4/10 (Not recommended, clashes with the style)\n",
              "\n",
              "**Switchboard 4**\n",
              "\n",
              "* **Description:**  Curved, dark wood-look switchboard with black switches. \n",
              "* **Appropriateness:** This switchboard has a sleek, contemporary feel that complements the room's modern lines. The dark wood would harmonize with the wall paneling and add a touch of sophistication.\n",
              "* **Rating:** 9/10 (Excellent match for the style)\n",
              "\n",
              "\n",
              "**Assessment Table:**\n",
              "\n",
              "| Switchboard | Style | Appropriateness | Rating |\n",
              "|---|---|---|---|\n",
              "| 1 | Modern Rustic | Could work, but consider color contrast | 6/10 |\n",
              "| 2 | Minimalist | Safe and neutral | 7/10 |\n",
              "| 3 | Opulent/Metallic  | Not recommended, clashes with style | 4/10 |\n",
              "| 4 | Contemporary Wood | Excellent match for the style | 9/10 | \n"
            ]
          },
          "metadata": {},
          "output_type": "display_data"
        }
      ],
      "source": [
        "responses = multimodal_model.generate_content(contents)\n",
        "display_markdown(responses.text, raw=True)"
      ]
    },
    {
      "cell_type": "markdown",
      "metadata": {},
      "source": [
        "### SwitchBoards on Wall\n"
      ]
    },
    {
      "cell_type": "markdown",
      "metadata": {},
      "source": [
        "##### Scenario\n",
        "\n",
        "The customer shows you their living room:\n",
        "\n",
        "|Customer photo |\n",
        "|:-----:|\n",
        "|<img src=\"https://media.istockphoto.com/id/1390233984/photo/modern-luxury-bedroom.jpg?s=612x612&w=0&k=20&c=po91poqYoQTbHUpO1LD1HcxCFZVpRG-loAMWZT7YRe4=\" width=\"80%\">  |\n",
        "\n",
        "\n",
        "\n",
        "Below are four options that the customer is trying to decide between:\n",
        "\n",
        "|Options 1| Options 2 | Options 3 | Options 4 |\n",
        "|:-----:|:----:|:-----:|:----:|\n",
        "| <img src=\"https://img.staticmb.com/mbcontent/images/crop/uploads/2023/3/Wooden-modular-switchboard-designs-with-switches-and-sockets_0_1200.jpg\" width=\"40%\">|<img src=\"https://t3.ftcdn.net/jpg/06/25/01/76/240_F_625017618_XEaENhgwNaQibpH5yzlqFvVNuyq1jBNE.jpg\" width=\"80%\">|<img src=\"https://5.imimg.com/data5/SG/TT/MY-44167071/electrical-switche-500x500.jpg\" width=\"50%\">|<img src=\"https://encrypted-tbn0.gstatic.com/images?q=tbn:ANd9GcQU5Z_HeKkI078zmFYQATbDQBQW5BjLZvZ8SA&s\" width=\"100%\">|\n"
      ]
    },
    {
      "cell_type": "markdown",
      "metadata": {},
      "source": [
        "#### code"
      ]
    },
    {
      "cell_type": "code",
      "execution_count": 22,
      "metadata": {},
      "outputs": [
        {
          "name": "stdout",
          "output_type": "stream",
          "text": [
            "image/jpeg\n",
            "image/jpg\n",
            "image/jpeg\n",
            "image/jpeg\n",
            "image/jpeg\n"
          ]
        }
      ],
      "source": [
        "from IPython.display import display_markdown\n",
        "# urls for room images\n",
        "room_image_url = \"https://media.istockphoto.com/id/1390233984/photo/modern-luxury-bedroom.jpg?s=612x612&w=0&k=20&c=po91poqYoQTbHUpO1LD1HcxCFZVpRG-loAMWZT7YRe4=\"\n",
        "\n",
        "# \"https://storage.googleapis.com/github-repo/img/gemini/retail-recommendations/rooms/spacejoy-c0JoR_-2x3E-unsplash.jpg\"\n",
        "\n",
        "# load room images as Image Objects\n",
        "room_image = load_image_from_url(room_image_url)\n",
        "\n",
        "\n",
        "\n",
        "# Download and display sample chairs\n",
        "furniture_image_urls = [\n",
        "    \"https://img.staticmb.com/mbcontent/images/crop/uploads/2023/3/Wooden-modular-switchboard-designs-with-switches-and-sockets_0_1200.jpg\",\n",
        "   \"https://t3.ftcdn.net/jpg/06/25/01/76/240_F_625017618_XEaENhgwNaQibpH5yzlqFvVNuyq1jBNE.jpg\",\n",
        "    \"https://5.imimg.com/data5/SG/TT/MY-44167071/electrical-switche-500x500.jpg\",\n",
        "    \"https://encrypted-tbn0.gstatic.com/images?q=tbn:ANd9GcQU5Z_HeKkI078zmFYQATbDQBQW5BjLZvZ8SA&s\",\n",
        "]\n",
        "\n",
        "# Load furniture images as Image Objects\n",
        "furniture_images = [load_image_from_url(url) for url in furniture_image_urls]\n",
        "\n",
        "# To recommend an item from a selection, you will need to label the item number within the prompt.\n",
        "# Labelling images within your prompt also help to reduce hallucinations and overall produce better results.\n",
        "contents = [\n",
        "    \"Consider the following swatch boards:\",\n",
        "    \"switch board 1:\",\n",
        "    furniture_images[0],\n",
        "    \"switch board 2:\",\n",
        "    furniture_images[1],\n",
        "    \"switch board 3:\",\n",
        "    furniture_images[2],\n",
        "    \"switch board 4:\",\n",
        "    furniture_images[3],\n",
        "    \"room:\",\n",
        "    room_image,\n",
        "    \"You are an interior designer. For each swatch board , explain whether it would be appropriate for the style of the room in brief with a rating, also give assesment in tabular form:\",\n",
        "]\n",
        "# print(\"-------Prompt--------\")\n",
        "# print_multimodal_prompt(contents)"
      ]
    },
    {
      "cell_type": "markdown",
      "metadata": {},
      "source": [
        "#### Ouput"
      ]
    },
    {
      "cell_type": "code",
      "execution_count": 21,
      "metadata": {},
      "outputs": [
        {
          "data": {
            "text/markdown": [
              "Here's an assessment of each switchboard design in relation to the bedroom's style:\n",
              "\n",
              "**Overall Room Style:** Modern, minimalist with warm, natural elements.\n",
              "\n",
              "**Switchboard Assessments:**\n",
              "\n",
              "| Switchboard | Appropriate? | Rating (out of 5) | Explanation |\n",
              "|---|---|---|---|\n",
              "| 1 | Somewhat | 3/5 | The wood tone is harmonious with the room's natural elements, but the design feels slightly dated and lacks the sleekness of the overall aesthetic. |\n",
              "| 2 | Not Ideal | 2/5 | Too generic and utilitarian. The stark white clashes with the warm tones and doesn't complement the modern design elements. |\n",
              "| 3 | Not Suitable | 1/5 |  The red and chrome combination is far too bold and clashes heavily with the bedroom's serene color palette and natural materials. |\n",
              "| 4 | **Excellent Choice** | 4.5/5 | **The dark wood and sleek black switches align perfectly with the room's modern aesthetic and warm color scheme. The slightly curved design adds a touch of visual interest without being overwhelming.** |\n",
              "\n",
              "**In Conclusion:** Switchboard #4 is the most fitting choice for this bedroom. It seamlessly blends functionality with style, complementing the existing design elements without feeling out of place. \n"
            ]
          },
          "metadata": {},
          "output_type": "display_data"
        }
      ],
      "source": [
        "responses = multimodal_model.generate_content(contents)\n",
        "display_markdown(responses.text, raw=True)"
      ]
    },
    {
      "cell_type": "markdown",
      "metadata": {},
      "source": [
        "### Glasses/Lenses Recommendation "
      ]
    },
    {
      "cell_type": "markdown",
      "metadata": {},
      "source": [
        "##### Scenario\n",
        "\n",
        "The customer uploads their face image:\n",
        "\n",
        "|Customer photo |\n",
        "|:-----:|\n",
        "|<img src=\"https://raw.githubusercontent.com/Rahulraj31/Multimodel-Gemini-Recommendation-System-/refs/heads/main/sample-user-image.jpeg\" width=\"20%\">  |\n",
        "\n",
        "\n",
        "\n",
        "Below are four Glasses options that the customer is trying to decide between:\n",
        "\n",
        "|Option 1| Option 2 | Option 3 | Option 4 |\n",
        "|:-----:|:----:|:-----:|:----:|\n",
        "| <img src=\"https://static5.lenskart.com/media/catalog/product/pro/1/thumbnail/628x301/9df78eab33525d08d6e5fb8d27136e95//j/i/john-jacobs-jj-e16116-c2-eyeglasses_g_8777_19_10_2023.jpg\" width=\"80%\">|<img src=\"https://static5.lenskart.com/media/catalog/product/pro/1/thumbnail/628x301/9df78eab33525d08d6e5fb8d27136e95//v/i/Purple-Silver-Purple-Transparent-Full-Rim-Round-Vincent-Chase-SLEEK-STEEL-VC-E13784-C1-Eyeglasses_vincent-chase-vc-e13784-c1-eyeglasses_g_301709_02_2022.jpg\" width=\"80%\">|<img src=\"https://static5.lenskart.com/media/catalog/product/pro/1/thumbnail/628x301/9df78eab33525d08d6e5fb8d27136e95//j/o/john-jacobs-jj-e13346-c2-eyeglasses_g_5793.jpg\" width=\"80%\">|<img src=\"https://static5.lenskart.com/media/catalog/product/pro/1/thumbnail/628x301/9df78eab33525d08d6e5fb8d27136e95//v/i/brown-transparent-silver-full-rim-cat-eye-vincent-chase-blend-edit-vc-e14973-c2-eyeglasses_g_3516_10_14_22.jpg\" width=\"80%\">|\n"
      ]
    },
    {
      "cell_type": "markdown",
      "metadata": {},
      "source": [
        "#### code\n"
      ]
    },
    {
      "cell_type": "code",
      "execution_count": 27,
      "metadata": {},
      "outputs": [
        {
          "name": "stdout",
          "output_type": "stream",
          "text": [
            "image/jpeg\n",
            "image/jpeg\n",
            "image/jpeg\n",
            "image/jpeg\n",
            "image/jpeg\n"
          ]
        }
      ],
      "source": [
        "from IPython.display import display_markdown\n",
        "# urls for room images\n",
        "user_face_image_url = \"https://raw.githubusercontent.com/Rahulraj31/Multimodel-Gemini-Recommendation-System-/refs/heads/main/sample-user-image.jpeg\"\n",
        "\n",
        "# \"https://storage.googleapis.com/github-repo/img/gemini/retail-recommendations/rooms/spacejoy-c0JoR_-2x3E-unsplash.jpg\"\n",
        "\n",
        "# load room images as Image Objects\n",
        "user_image = load_image_from_url(user_face_image_url)\n",
        "\n",
        "\n",
        "\n",
        "# Download and display sample chairs\n",
        "spec_image_urls = [\n",
        "    \"https://static5.lenskart.com/media/catalog/product/pro/1/thumbnail/628x301/9df78eab33525d08d6e5fb8d27136e95//j/i/john-jacobs-jj-e16116-c2-eyeglasses_g_8777_19_10_2023.jpg\",\n",
        "   \"https://static5.lenskart.com/media/catalog/product/pro/1/thumbnail/628x301/9df78eab33525d08d6e5fb8d27136e95//v/i/Purple-Silver-Purple-Transparent-Full-Rim-Round-Vincent-Chase-SLEEK-STEEL-VC-E13784-C1-Eyeglasses_vincent-chase-vc-e13784-c1-eyeglasses_g_301709_02_2022.jpg\",\n",
        "    \"https://static5.lenskart.com/media/catalog/product/pro/1/thumbnail/628x301/9df78eab33525d08d6e5fb8d27136e95//j/o/john-jacobs-jj-e13346-c2-eyeglasses_g_5793.jpg\",\n",
        "    \"https://static5.lenskart.com/media/catalog/product/pro/1/thumbnail/628x301/9df78eab33525d08d6e5fb8d27136e95//v/i/brown-transparent-silver-full-rim-cat-eye-vincent-chase-blend-edit-vc-e14973-c2-eyeglasses_g_3516_10_14_22.jpg\",\n",
        "]\n",
        "\n",
        "# Load furniture images as Image Objects\n",
        "spec_images = [load_image_from_url(url) for url in spec_image_urls]\n",
        "\n",
        "# To recommend an item from a selection, you will need to label the item number within the prompt.\n",
        "# Labelling images within your prompt also help to reduce hallucinations and overall produce better results.\n",
        "contents = [\n",
        "    \"Consider the following swatch boards:\",\n",
        "    \"spec type 1:\",\n",
        "    spec_images[0],\n",
        "    \"spec type 2:\",\n",
        "    spec_images[1],\n",
        "    \"spec type 3:\",\n",
        "    spec_images[2],\n",
        "    \"spec type 4:\",\n",
        "    spec_images[3],\n",
        "    \"user face pic:\",\n",
        "    user_image,\n",
        "    \"You are a glasses/spectacles fashion advisor your task is to analyse user face structure and advice them with best options of given glasses. For each spec type , explain whether it would be appropriate for the user to choose them to wear in brief with a rating based upon looks of the glass and how it would affect user face, also give assesment in tabular form:\",\n",
        "]\n",
        "# print(\"-------Prompt--------\")\n",
        "# print_multimodal_prompt(contents)"
      ]
    },
    {
      "cell_type": "markdown",
      "metadata": {},
      "source": [
        "#### output"
      ]
    },
    {
      "cell_type": "code",
      "execution_count": 26,
      "metadata": {},
      "outputs": [
        {
          "data": {
            "text/markdown": [
              "Based on the photo provided, this gentleman has a round face shape with softer features. Here's a breakdown of each spec type and how well they'd suit him:\n",
              "\n",
              "**Spec Type 1: (Black Square Frames)**\n",
              "\n",
              "* **Appropriate?**  Yes. Square and rectangular frames can provide a flattering contrast to round faces, adding definition and making the face appear slimmer. \n",
              "* **Rating:** 8/10\n",
              "* **Explanation:** The black color adds a classic and bold touch, complementing a variety of styles. These frames are a safe and stylish bet.\n",
              "\n",
              "**Spec Type 2: (Thin, Round, Purple Frames)**\n",
              "\n",
              "* **Appropriate?** Less ideal. Round frames on a round face can overemphasize the roundness. \n",
              "* **Rating:** 5/10 \n",
              "* **Explanation:** While the thinness of the frames helps, the overall shape might not be the most flattering. He could pull these off if he prefers a softer, more whimsical style, but it's not the best choice for accentuating his features.\n",
              "\n",
              "**Spec Type 3: (Geometric, Angular Frames)**\n",
              "\n",
              "* **Appropriate?** Good. Angular and geometric frames add structure and dimension to a round face.\n",
              "* **Rating:** 7/10 \n",
              "* **Explanation:** These frames make a statement and are very on-trend. The sharp angles provide a nice counterpoint to his softer features.\n",
              "\n",
              "**Spec Type 4: (Cat-Eye Frames)**\n",
              "\n",
              "* **Appropriate?**  Less ideal. While cat-eye frames can be very stylish, they tend to complement oval and square faces better. On a round face, they might not have the desired lifting effect.\n",
              "* **Rating:** 6/10\n",
              "* **Explanation:** These could work if he prefers a more retro-inspired look, but the frames might not harmonize perfectly with his natural features. \n",
              "\n",
              "**Assessment Table:**\n",
              "\n",
              "| Spec Type | Appropriate? | Rating | Explanation |\n",
              "|---|---|---|---|\n",
              "| Black Square Frames | Yes | 8/10 | Classic, bold, slimming effect |\n",
              "| Thin, Round, Purple Frames | Less Ideal | 5/10 | May overemphasize roundness |\n",
              "| Geometric, Angular Frames | Good | 7/10 | Adds structure and dimension |\n",
              "| Cat-Eye Frames | Less Ideal | 6/10 | May not provide the best lifting effect | \n",
              "\n",
              "**Important Note:** The best way to find the perfect glasses is to try them on! This analysis provides general guidance, but personal style and preference also play a huge role. \n"
            ]
          },
          "metadata": {},
          "output_type": "display_data"
        }
      ],
      "source": [
        "responses = multimodal_model.generate_content(contents)\n",
        "display_markdown(responses.text, raw=True)"
      ]
    },
    {
      "cell_type": "code",
      "execution_count": 28,
      "metadata": {},
      "outputs": [
        {
          "data": {
            "text/plain": [
              "['Consider the following swatch boards:',\n",
              " 'spec type 1:',\n",
              " <vertexai.generative_models._generative_models.Image at 0x234d27750d0>,\n",
              " 'spec type 2:',\n",
              " <vertexai.generative_models._generative_models.Image at 0x234d2730620>,\n",
              " 'spec type 3:',\n",
              " <vertexai.generative_models._generative_models.Image at 0x234bab63e60>,\n",
              " 'spec type 4:',\n",
              " <vertexai.generative_models._generative_models.Image at 0x234d27be240>,\n",
              " 'user face pic:',\n",
              " <vertexai.generative_models._generative_models.Image at 0x234bab63fb0>,\n",
              " 'You are a glasses/spectacles fashion advisor your task is to analyse user face structure and advice them with best options of given glasses. For each spec type , explain whether it would be appropriate for the user to choose them to wear in brief with a rating based upon looks of the glass and how it would affect user face, also give assesment in tabular form:']"
            ]
          },
          "execution_count": 28,
          "metadata": {},
          "output_type": "execute_result"
        }
      ],
      "source": [
        "contents"
      ]
    },
    {
      "cell_type": "code",
      "execution_count": null,
      "metadata": {},
      "outputs": [],
      "source": []
    }
  ],
  "metadata": {
    "colab": {
      "provenance": []
    },
    "kernelspec": {
      "display_name": "Python 3",
      "name": "python3"
    },
    "language_info": {
      "codemirror_mode": {
        "name": "ipython",
        "version": 3
      },
      "file_extension": ".py",
      "mimetype": "text/x-python",
      "name": "python",
      "nbconvert_exporter": "python",
      "pygments_lexer": "ipython3",
      "version": "3.12.4"
    }
  },
  "nbformat": 4,
  "nbformat_minor": 0
}
